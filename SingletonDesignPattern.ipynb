{
 "cells": [
  {
   "cell_type": "markdown",
   "id": "d3d3cb23",
   "metadata": {},
   "source": [
    "## Definition\n",
    "\n",
    "- Creational design pattern\n",
    "- A class has 1 instance\n",
    "- Provides a global access point to this instance like global variables. But, unlike global variables, the instance cannot be overwritten by other code (If I created an object and later created a new one, instead of receiving the new object, I will receive the original object).\n"
   ]
  },
  {
   "cell_type": "markdown",
   "id": "564cc4ed",
   "metadata": {},
   "source": [
    "## Usage \n",
    "\n",
    "- When a class should have 1 instance available to all clients.  Why would we want to control the number of instances a class has? A common reason: when we need to control access to a shared resource (a database or a file shared by different parts of the program)\n"
   ]
  },
  {
   "cell_type": "markdown",
   "id": "fb1dc99a",
   "metadata": {},
   "source": [
    "## Implementation\n",
    "\n",
    "Problem: We can't use a regular constructor since, by design, such a constructor returns a new object. \n",
    "\n",
    "- We must make the default constructor private to prevent other objects from using the new operator with our Singleton clas.\n",
    "\n",
    "- Use a static creation method that will act as a constructor: it calls the private constructor to create an object and saves it in a static field. Subsequent calls to this method will return the cached object (same object is always returned when the Singleton static method is called)."
   ]
  },
  {
   "cell_type": "markdown",
   "id": "3e7502eb",
   "metadata": {},
   "source": [
    "## Problem\n",
    "\n",
    "- It violates the single responsibility principle.\n",
    "- "
   ]
  }
 ],
 "metadata": {
  "kernelspec": {
   "display_name": "Python 3",
   "language": "python",
   "name": "python3"
  },
  "language_info": {
   "codemirror_mode": {
    "name": "ipython",
    "version": 3
   },
   "file_extension": ".py",
   "mimetype": "text/x-python",
   "name": "python",
   "nbconvert_exporter": "python",
   "pygments_lexer": "ipython3",
   "version": "3.9.5"
  }
 },
 "nbformat": 4,
 "nbformat_minor": 5
}
