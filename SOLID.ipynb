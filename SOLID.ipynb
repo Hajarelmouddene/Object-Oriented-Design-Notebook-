{
 "cells": [
  {
   "cell_type": "markdown",
   "id": "4f57f01b",
   "metadata": {},
   "source": [
    "Developed by Robert Martin, SOLID stands for the 5 principles of object oriented design.\n",
    "\n",
    "SOLID principles help with:\n",
    "- Considerations for maintaining and extending code as the project grows\n",
    "- Avoiding code smells (symptoms in the source code that possibly indicate a deeper problem - symptoms of poor design/implementation choices)\n",
    "- Refactoring\n",
    "- Agile software development\n"
   ]
  },
  {
   "cell_type": "markdown",
   "id": "e5413df1",
   "metadata": {},
   "source": [
    "## Single-responsibility principle\n"
   ]
  },
  {
   "cell_type": "markdown",
   "id": "dc92ba99",
   "metadata": {},
   "source": [
    "\"The single responsibility principle states that every module or class should have responsibility over a single part of the functionality provided by the software, and that responsibility should be entirely encapsulated by the class. All its services should be narrowly aligned with that responsibility.\"\n",
    "\n",
    "\n",
    "\n",
    "If a class has more than 1 responsibility, it is considered coupled and a change to one responsibility results in a change in the other.\n",
    "\n",
    "When a class has more than one responsibility, we must decouple the functionality into two classes or modules so that each handles only one responsibility."
   ]
  },
  {
   "cell_type": "code",
   "execution_count": 3,
   "id": "195c3dfb",
   "metadata": {},
   "outputs": [],
   "source": [
    "class BankAccount:\n",
    "    def __init__(self, account_number: str):\n",
    "        self.account_number = account_number\n",
    "        \n",
    "    def get_account_number(self):\n",
    "        return self.account_number\n",
    "    \n",
    "    def save(self):\n",
    "        pass"
   ]
  },
  {
   "cell_type": "markdown",
   "id": "74b51cdf",
   "metadata": {},
   "source": [
    "Note: pass is a null statement used when we don't want to write the implementation of a method/function right away but plan to do so in the future. It is not ignored by the intepreter (unlike a comment) but it results in a no operation (NOP).\n",
    "\n",
    "The example above violates SRP because it has more than 1 responsibility:\n",
    "\n",
    "- 1st responsibility: properties management (get account number)\n",
    "- 2nd responsibility: database management (save account number to db)\n",
    "\n",
    "This is an issue because if only database management is affected by some change in the app, the classes that use the BankAccount's class propeties will have to change as well.\n",
    "\n",
    "The solution is to separate these responsibilities and create a separate class which is responsibile for db management.\n",
    "\n",
    "Note: single leading underscore _db = convention for declaring private variable\n"
   ]
  },
  {
   "cell_type": "code",
   "execution_count": 25,
   "id": "3f765727",
   "metadata": {},
   "outputs": [],
   "source": [
    "class BankAccountDB:\n",
    "    def get_account_number(self, _id):\n",
    "        pass\n",
    "    def save_account_number(self, obj):\n",
    "        pass\n",
    "\n",
    "class BankAccount:\n",
    "    def __init__(self, account_number: str):\n",
    "        self.account_number = account_number\n",
    "        self._db = BankAccountDB()\n",
    "    \n",
    "    def get_account_number(self):\n",
    "        return self.account_number\n",
    "\n",
    "    def get(self, _id):\n",
    "        return self._db.get_account_number(_id=_id)\n",
    "    \n",
    "    def save(self):\n",
    "        self._db.save_account_number(obj=self)\n",
    "    \n"
   ]
  },
  {
   "cell_type": "markdown",
   "id": "816de4fd",
   "metadata": {},
   "source": [
    "## Open-closed principle"
   ]
  },
  {
   "cell_type": "markdown",
   "id": "05d4a9c8",
   "metadata": {},
   "source": [
    "\"Software entities (classes, modules, functions, etc.) should be open for extension, but closed for modification\""
   ]
  },
  {
   "cell_type": "code",
   "execution_count": 33,
   "id": "7b9ee856",
   "metadata": {},
   "outputs": [],
   "source": [
    "class Discount:\n",
    "    \n",
    "    def __init__(self, customer, price):\n",
    "        self.customer = custmer\n",
    "        self.price = price\n",
    "        \n",
    "    def apply_discount(self):\n",
    "        if self.customer == 'regular':\n",
    "            return self.price * 0.1\n",
    "        elif self.customer == 'bronze':\n",
    "            return self.price * 0.2"
   ]
  },
  {
   "cell_type": "markdown",
   "id": "19ce0618",
   "metadata": {},
   "source": [
    "The above example violates the open closed principle. Here is why:\n",
    "\n",
    "- When we orginally wrote this class, we started it out with 2 types of customers (regular and bronze) but overtime we decided to add a third type: gold. Given the class we wrote, to add a third type, we would have to go back and modify the class as the following: "
   ]
  },
  {
   "cell_type": "code",
   "execution_count": 29,
   "id": "7c0fa2ab",
   "metadata": {},
   "outputs": [],
   "source": [
    "class Discount:\n",
    "    \n",
    "    def __init__(self, customer, price):\n",
    "        self.customer = custmer\n",
    "        self.price = price\n",
    "        \n",
    "    def apply_discount(self):\n",
    "        if self.customer == 'regular':\n",
    "            return self.price * 0.1\n",
    "        elif self.customer == 'bronze':\n",
    "            return self.price * 0.2\n",
    "        elif self.customer == 'gold':\n",
    "            return self.price * 0.4"
   ]
  },
  {
   "cell_type": "markdown",
   "id": "87d3418f",
   "metadata": {},
   "source": [
    "The modification we have just performed violates the open-close principle. Rather than extending the apply_discount method, we modified it.\n",
    "\n",
    "To make our class open to extension and closed to modification, we rewrite it as:"
   ]
  },
  {
   "cell_type": "code",
   "execution_count": 31,
   "id": "2e884221",
   "metadata": {},
   "outputs": [],
   "source": [
    "class Discount:\n",
    "    \n",
    "    def __init__(self, customer, price):\n",
    "        self.customer = customer\n",
    "        self.price = price\n",
    "        \n",
    "    def get_discount(self):\n",
    "        return self.price * 0.1\n",
    "\n",
    "    \n",
    "    \n",
    "class BronzeDiscount(Discount):\n",
    "    \n",
    "    def get_discount(self):\n",
    "        return super().get_discount() * 2\n",
    "    \n",
    "    \n",
    "    \n",
    "class GoldDiscount(Discount):\n",
    "    \n",
    "    def get_discount(self):\n",
    "        return super().get_discount() * 4"
   ]
  },
  {
   "cell_type": "markdown",
   "id": "3b302631",
   "metadata": {},
   "source": [
    "Note:\n",
    "\n",
    "- Now, other future types of discount can be added as separate classes (extensible) without having to modify the Discount class (closed to modification)\n",
    "\n",
    "- We pass the parent class Discount to the subclasses BronzeDiscount and GoldDiscount\n",
    "\n",
    "- We can access the get_discount method of the parent class in the subclases using super(). \n",
    "\n",
    "- super()alone returns a temporary object of the superclass (Discount) that then allows us to call the superclass' methods (get_discount)"
   ]
  },
  {
   "cell_type": "markdown",
   "id": "98fcbd83",
   "metadata": {},
   "source": [
    "## Liskov substitution principle\n",
    "\n",
    "\"Let q(x) be a property provable about objects x of type T. Then q(y) should be true for objects y of type S where S is a subtype of T.\"\n",
    "\n",
    "\n",
    "We have an object x with type T\n",
    "\n",
    "We have an object y with type S\n",
    "\n",
    "S is a subtype of T\n",
    "\n",
    "Principle says: any object x can be replaced with object y without altering any of the desirable properties of the program. \n",
    "\n",
    "A subclass must be substituable for its superclass without causing any errors\n"
   ]
  },
  {
   "cell_type": "code",
   "execution_count": null,
   "id": "0adc0faf",
   "metadata": {},
   "outputs": [],
   "source": [
    "class Vehicle:\n",
    "    \n",
    "    def __init__(self, name: str, speed: float):\n",
    "        self.name = name\n",
    "        self.speed = speed\n",
    "        \n",
    "    def engine (self)\n",
    "        pass\n",
    "    \n",
    "    def start_engine(self):\n",
    "        self.engine()\n",
    "    \n",
    "    \n",
    "class Car(Vehicle):\n",
    "    def start_engine(self):\n",
    "        pass\n",
    "    \n",
    "class Bicycle(Vehicle):\n",
    "    def start_engine(self):\n",
    "        pass"
   ]
  },
  {
   "cell_type": "markdown",
   "id": "c58b3e60",
   "metadata": {},
   "source": [
    "Liskov substitution principle says: I should able to replace vehicle with bicycle without causing errors. But, a bicycle has no engine."
   ]
  },
  {
   "cell_type": "code",
   "execution_count": null,
   "id": "01299f99",
   "metadata": {},
   "outputs": [],
   "source": [
    "class Vehicle:\n",
    "    \n",
    "    def __init__(self, name: str, speed: float):\n",
    "        self.name = name\n",
    "        self.speed = speed\n",
    "        \n",
    "class VehicleWithEngine(Vehicle):\n",
    "    def engine(self)\n",
    "        pass\n",
    "        \n",
    "    def start_engine(self):\n",
    "        self.engine()\n",
    "        \n",
    "class VehicleWithoutEngine(Vehicle):\n",
    "    def start_moving(self):\n",
    "        raise NotImpletementedError\n",
    "        \n",
    "class Car(VehicleWithEngine):\n",
    "    def start_engine(self):\n",
    "        pass\n",
    "    \n",
    "class Bicycle(VehicleWithoutEngine):\n",
    "    def start_moving(self):\n",
    "        pass"
   ]
  },
  {
   "cell_type": "markdown",
   "id": "f1e1a9a0",
   "metadata": {},
   "source": [
    "Bicyle can replace VehicleWithoutEngine which can then replace Vehicle. \n",
    "\n",
    "Car can replace VehicleWithEngine which can then replace Vehicle."
   ]
  },
  {
   "cell_type": "markdown",
   "id": "1b692da6",
   "metadata": {},
   "source": [
    "\n",
    "## Interface segregation principle"
   ]
  },
  {
   "cell_type": "markdown",
   "id": "bb033bd1",
   "metadata": {},
   "source": [
    "“Clients should not be forced to depend upon interfaces that they do not use.”\n",
    "\n",
    "OOP elements:\n",
    "\n",
    "Client: An external entity or system that make use of an object or class, it can also be another object or class.\n",
    "\n",
    "Interface: A contract that a class or object conveys with the outside world for a set of functionality or behavior.\n",
    "\n",
    "Many client-specific interfaces are better than 1 general purpose interface."
   ]
  },
  {
   "cell_type": "code",
   "execution_count": 55,
   "id": "fdec559b",
   "metadata": {},
   "outputs": [],
   "source": [
    "class Shape: \n",
    "    \n",
    "    def draw_triangle(self):\n",
    "        raise NotImplementedError\n",
    "        \n",
    "    def draw_circle(self):\n",
    "        raise NotImplementedError\n",
    "\n",
    "\n",
    "class Triangle(Shape):\n",
    "    \n",
    "    def draw_triangle(self):\n",
    "        pass\n",
    "    \n",
    "    def draw_circle(self):\n",
    "        pass\n",
    "\n",
    "    \n",
    "class Circle(Shape):\n",
    "    \n",
    "    def draw_circle(self):\n",
    "        pass\n",
    "    \n",
    "    def draw_triangle(self):\n",
    "        pass"
   ]
  },
  {
   "cell_type": "markdown",
   "id": "9cd9eb9e",
   "metadata": {},
   "source": [
    "NotImplementedError:  In user defined base classes, abstract methods should raise this exception when they require derived classes to override the method, or while the class is being developed to indicate that the real implementation still needs to be added. In other words, it is meant for a method in an abstract class that should be implemented in child class, but can be used to indicate a TODO as well.\n",
    "\n",
    "The shape interface draws circles and triangles. The above example violates ISP, the triangle subclass must define the draw circle method or an error will be thrown. The triangle class is forced to depend on a method (draw circle) that it does not use or need.\n",
    "\n",
    "Triangle class: client\n",
    "\n",
    "Solution: separate into different interfaces. The Triangle and Circle classes can inherit the draw shape method from the shape interface and implement their own drawing behavior for triangles and circles, respectively, "
   ]
  },
  {
   "cell_type": "code",
   "execution_count": 57,
   "id": "c60a48a7",
   "metadata": {},
   "outputs": [],
   "source": [
    "class Shape: \n",
    "    \"\"\"draw a shape\"\"\"\n",
    "    def draw(self):\n",
    "        raise NotImplementedError\n",
    "        \n",
    "        \n",
    "class Triangle(Shape):\n",
    "    \"\"\"draw a triangle\"\"\"\n",
    "    def draw(self):\n",
    "        pass\n",
    "    \n",
    "    \n",
    "class Circle(Shape):\n",
    "    \"\"\"draw a circle\"\"\"\n",
    "    def draw(self):\n",
    "        pass\n",
    "  "
   ]
  },
  {
   "cell_type": "markdown",
   "id": "3e120758",
   "metadata": {},
   "source": [
    "## Dependency inversion principle"
   ]
  },
  {
   "cell_type": "markdown",
   "id": "b530af95",
   "metadata": {},
   "source": [
    "-  High-level modules should not depend on low-level modules. Both should depend on abstractions.\n",
    "- Abstractions should not depend on details. Details should depend on abstractions."
   ]
  },
  {
   "cell_type": "markdown",
   "id": "28747abb",
   "metadata": {},
   "source": [
    "As our app grows to be largely composed of modules, we need to use dependency injection (DI) \n",
    "\n",
    "DI:\n",
    "- DI is a technique in which an object receives other objects (dependencies) that it depends on.\n",
    "- The receiving object is the client and the sending object is the service.\n",
    "- Code used to pass service to client is called the injector.\n",
    "- \"injection\" refers to the passing of a dependency (a service) into the object (a client) that will use it.\n",
    "- DI makes our code easy to change and test\n",
    "- It's difficult to isolate components in unit testing without dependency injection (DI). Using DI allows dependencies to be mocked\n",
    "- Python has a library dependency-injector which provides a framework that allows us to implement DI.\n",
    "\n",
    "\n"
   ]
  },
  {
   "cell_type": "code",
   "execution_count": null,
   "id": "42434d94",
   "metadata": {},
   "outputs": [],
   "source": [
    "\"\"\"Http service is our low-level component\"\"\"\n",
    "class XMLHttpService(XMLHttpRequestService):\n",
    "    pass\n",
    "\n",
    "\"\"\"Http is our high-level component\"\"\"\n",
    "class Http:\n",
    "    def __init__(self, xml_http_service: XMLHttpService):\n",
    "        self.xml_http_service = xml_http_service\n",
    "    \n",
    "    def get(self, url: str, options: dict):\n",
    "        self.xml_http_service.request(url, 'GET')\n",
    "        \n",
    "    def post(self, url: str, options: dict):\n",
    "        self.xml_http_service.request(url, 'POST')\n",
    "        \n",
    "\n",
    "\n"
   ]
  },
  {
   "cell_type": "markdown",
   "id": "97f956b7",
   "metadata": {},
   "source": [
    "Note on xml_http_service: XMLHttpService \n",
    "- we are passing an argument named xml_http_service of type XMLHttpService\n",
    "\n",
    "\n",
    "The above example violates the dependency inversion principle. Http class (high-level component) depends on XMLHttpService class (low-level component).\n",
    "\n",
    "Here is why it is an issue: if we change the Http connection service (we would like to connect through cURL or we would like to mock the Http service), we need to change all the instances of Http class. (notice how this violate the open-close principle, we are modifying rather than extending our class).\n",
    "\n",
    "Solution: Http class should NOT care what type Http service we are using. To implement this, we create a connection interface (abstraction) and pass it as an argument to the Http class. We access the request method of Connection and use it to make our http requests."
   ]
  },
  {
   "cell_type": "code",
   "execution_count": 69,
   "id": "6539de0d",
   "metadata": {},
   "outputs": [],
   "source": [
    "class Connection:\n",
    "    def request(self, url: str, options: dict):\n",
    "        raise NotImplementedError\n",
    "        \n",
    "    \n",
    "class Http:\n",
    "    def __init__(self, http_connection: Connection):\n",
    "        self.http_connection = http_connection\n",
    "    \n",
    "    def get(self, url: str, options: dict):\n",
    "        self.http_connection.request(url, 'GET')\n",
    "        \n",
    "    def post(self, url: str, options: dict):\n",
    "        self.http_connection.request(url, 'POST')\n",
    "        "
   ]
  },
  {
   "cell_type": "markdown",
   "id": "4ef2e20f",
   "metadata": {},
   "source": [
    "Now, regardless of the type of Http connection service that we are using, Http can connect to a network without knowing the type of request (we removed the dependency on the low-level module http service). \n",
    "\n",
    "Now, let's change our Http service class to implement our Connection interface.\n"
   ]
  },
  {
   "cell_type": "code",
   "execution_count": null,
   "id": "35b77eb0",
   "metadata": {},
   "outputs": [],
   "source": [
    "\"\"\"Http service is our low-level component\"\"\"\n",
    "class XMLHttpService(Connection):\n",
    "    xhr = XMLHttpRequest()\n",
    "    \n",
    "    def request(self, url: str, options: dict):\n",
    "        self.xhr.open()\n",
    "        self.xhr.send()   \n",
    "        \n",
    "\"\"\"we can add other Http connection types now that we can pass to our Http class\"\"\"\n",
    "class NodeHttpService(Connection):\n",
    "    def request(self, url: str, options:dict):\n",
    "        pass\n",
    "    \n",
    "\n",
    "class MockHttpService(Connection):\n",
    "    def request(self, url: str, options:dict):\n",
    "        pass"
   ]
  },
  {
   "cell_type": "markdown",
   "id": "fa4e715d",
   "metadata": {},
   "source": [
    "Both the high-level module (Http class) and the low-level module (Http service classes) now depend on an abstraction (Connection interface).\n",
    "\n",
    "Notice NodeHttpService and MockHttpService subclasses are substituable for their parent Connection class (we are respecting the Liskov substitution principle)."
   ]
  },
  {
   "cell_type": "code",
   "execution_count": null,
   "id": "4e350ca5",
   "metadata": {},
   "outputs": [],
   "source": []
  }
 ],
 "metadata": {
  "kernelspec": {
   "display_name": "Python 3",
   "language": "python",
   "name": "python3"
  },
  "language_info": {
   "codemirror_mode": {
    "name": "ipython",
    "version": 3
   },
   "file_extension": ".py",
   "mimetype": "text/x-python",
   "name": "python",
   "nbconvert_exporter": "python",
   "pygments_lexer": "ipython3",
   "version": "3.9.5"
  }
 },
 "nbformat": 4,
 "nbformat_minor": 5
}
